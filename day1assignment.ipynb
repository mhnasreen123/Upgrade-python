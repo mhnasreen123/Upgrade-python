{
  "nbformat": 4,
  "nbformat_minor": 0,
  "metadata": {
    "colab": {
      "name": "day1assignment.ipynb",
      "provenance": [],
      "collapsed_sections": [],
      "authorship_tag": "ABX9TyMyL8MG3c7T7gROcw6ykQFx",
      "include_colab_link": true
    },
    "kernelspec": {
      "name": "python3",
      "display_name": "Python 3"
    }
  },
  "cells": [
    {
      "cell_type": "markdown",
      "metadata": {
        "id": "view-in-github",
        "colab_type": "text"
      },
      "source": [
        "<a href=\"https://colab.research.google.com/github/mhnasreen123/Upgrade-python/blob/master/day1assignment.ipynb\" target=\"_parent\"><img src=\"https://colab.research.google.com/assets/colab-badge.svg\" alt=\"Open In Colab\"/></a>"
      ]
    },
    {
      "cell_type": "code",
      "metadata": {
        "id": "ozAuhw6bCZDq",
        "colab_type": "code",
        "colab": {
          "base_uri": "https://localhost:8080/",
          "height": 34
        },
        "outputId": "c78be9fe-80eb-4629-fb5b-5df501f9bd16"
      },
      "source": [
        "  #list and its deault functions\n",
        "  list=[1,2,3,4,5]\n",
        "  print(list)"
      ],
      "execution_count": 4,
      "outputs": [
        {
          "output_type": "stream",
          "text": [
            "[1, 2, 3, 4, 5]\n"
          ],
          "name": "stdout"
        }
      ]
    },
    {
      "cell_type": "code",
      "metadata": {
        "id": "X6StgWEVD-FE",
        "colab_type": "code",
        "colab": {
          "base_uri": "https://localhost:8080/",
          "height": 34
        },
        "outputId": "73a95ddd-8ab2-4d5a-a127-248b70860984"
      },
      "source": [
        "list1=[1,2,3]\n",
        "print(min(list1))"
      ],
      "execution_count": 5,
      "outputs": [
        {
          "output_type": "stream",
          "text": [
            "1\n"
          ],
          "name": "stdout"
        }
      ]
    },
    {
      "cell_type": "code",
      "metadata": {
        "id": "Q7ChF-yUEGiK",
        "colab_type": "code",
        "colab": {
          "base_uri": "https://localhost:8080/",
          "height": 34
        },
        "outputId": "40e3767b-db22-4971-e833-96bddce4b582"
      },
      "source": [
        "list2=[1,2,3]\n",
        "list2.append(4)\n",
        "print(list2)"
      ],
      "execution_count": 9,
      "outputs": [
        {
          "output_type": "stream",
          "text": [
            "[1, 2, 3, 4]\n"
          ],
          "name": "stdout"
        }
      ]
    },
    {
      "cell_type": "code",
      "metadata": {
        "id": "DoovHn5zEelJ",
        "colab_type": "code",
        "colab": {
          "base_uri": "https://localhost:8080/",
          "height": 85
        },
        "outputId": "22209e57-6030-4f9a-e46b-c8272d8386fb"
      },
      "source": [
        "#tuple and its default functions\n",
        "tup=(1,2,3,4)\n",
        "for i in tup:\n",
        "  print((i))"
      ],
      "execution_count": 10,
      "outputs": [
        {
          "output_type": "stream",
          "text": [
            "1\n",
            "2\n",
            "3\n",
            "4\n"
          ],
          "name": "stdout"
        }
      ]
    },
    {
      "cell_type": "code",
      "metadata": {
        "id": "YQJ7vTh_E-gq",
        "colab_type": "code",
        "colab": {
          "base_uri": "https://localhost:8080/",
          "height": 34
        },
        "outputId": "4e45eb7e-1432-486a-de27-38a07c7a84ad"
      },
      "source": [
        "tup1=(6,7,8,9)\n",
        "print(max(tup1))"
      ],
      "execution_count": 11,
      "outputs": [
        {
          "output_type": "stream",
          "text": [
            "9\n"
          ],
          "name": "stdout"
        }
      ]
    },
    {
      "cell_type": "code",
      "metadata": {
        "id": "GiM_Qr4MFLBN",
        "colab_type": "code",
        "colab": {
          "base_uri": "https://localhost:8080/",
          "height": 34
        },
        "outputId": "a274f9ef-930c-4b55-e823-927444c589a3"
      },
      "source": [
        "tup2=('a','b','c')\n",
        "tup3=(1,2,3)\n",
        "concat=tup2+tup3\n",
        "print(concat)"
      ],
      "execution_count": 12,
      "outputs": [
        {
          "output_type": "stream",
          "text": [
            "('a', 'b', 'c', 1, 2, 3)\n"
          ],
          "name": "stdout"
        }
      ]
    },
    {
      "cell_type": "code",
      "metadata": {
        "id": "b_I-Jv1QFrbJ",
        "colab_type": "code",
        "colab": {
          "base_uri": "https://localhost:8080/",
          "height": 34
        },
        "outputId": "e6d25f19-e793-482a-b079-e56886d033a2"
      },
      "source": [
        "#dictonary and its default functions\n",
        "dict={\"Name\":\"Tina\",\"std\":\"10\"}\n",
        "print(dict[\"Name\"])"
      ],
      "execution_count": 13,
      "outputs": [
        {
          "output_type": "stream",
          "text": [
            "Tina\n"
          ],
          "name": "stdout"
        }
      ]
    },
    {
      "cell_type": "code",
      "metadata": {
        "id": "ATIRuQRLFLDo",
        "colab_type": "code",
        "colab": {
          "base_uri": "https://localhost:8080/",
          "height": 34
        },
        "outputId": "fcc300e4-ea15-4dc9-dfda-1d6f87a76775"
      },
      "source": [
        "dict1={\"Name\":\"Tina\",\"age\":\"14\"}\n",
        "print(dict1)"
      ],
      "execution_count": 17,
      "outputs": [
        {
          "output_type": "stream",
          "text": [
            "{'Name': 'Tina', 'age': '14'}\n"
          ],
          "name": "stdout"
        }
      ]
    },
    {
      "cell_type": "code",
      "metadata": {
        "id": "yUFL6ns0Gf0m",
        "colab_type": "code",
        "colab": {}
      },
      "source": [
        "#sets and its default functions \n",
        "tup1=set(['a','b','c'])\n",
        "a=(\"Nasreen\")\n",
        "tup1.add(a)"
      ],
      "execution_count": 22,
      "outputs": []
    },
    {
      "cell_type": "code",
      "metadata": {
        "id": "5k_qw9-OHT_J",
        "colab_type": "code",
        "colab": {
          "base_uri": "https://localhost:8080/",
          "height": 34
        },
        "outputId": "54edc3b7-03ec-4b31-9cdb-caef7f6214aa"
      },
      "source": [
        "tup4=set(['a','b','c'])\n",
        "print(tup4)"
      ],
      "execution_count": 23,
      "outputs": [
        {
          "output_type": "stream",
          "text": [
            "{'a', 'b', 'c'}\n"
          ],
          "name": "stdout"
        }
      ]
    },
    {
      "cell_type": "code",
      "metadata": {
        "id": "tDcEAfAeHkbp",
        "colab_type": "code",
        "colab": {
          "base_uri": "https://localhost:8080/",
          "height": 34
        },
        "outputId": "530339c1-d045-4201-c5e4-9ff8f4a57ddd"
      },
      "source": [
        "#strings and its default functions\n",
        "a=\"Hello World\"\n",
        "print(len(a))"
      ],
      "execution_count": 24,
      "outputs": [
        {
          "output_type": "stream",
          "text": [
            "11\n"
          ],
          "name": "stdout"
        }
      ]
    },
    {
      "cell_type": "code",
      "metadata": {
        "id": "LTgAStNpHySN",
        "colab_type": "code",
        "colab": {
          "base_uri": "https://localhost:8080/",
          "height": 34
        },
        "outputId": "712bc40c-53b6-47f1-9ac2-050616584c65"
      },
      "source": [
        "b=\"Hello World\"\n",
        "print(b[5])"
      ],
      "execution_count": 27,
      "outputs": [
        {
          "output_type": "stream",
          "text": [
            " \n"
          ],
          "name": "stdout"
        }
      ]
    },
    {
      "cell_type": "code",
      "metadata": {
        "id": "69wNpiy-IC_U",
        "colab_type": "code",
        "colab": {
          "base_uri": "https://localhost:8080/",
          "height": 34
        },
        "outputId": "b5247cc8-9765-4472-d7af-970413dcdd3c"
      },
      "source": [
        "c=\"Tina\"\n",
        "print(c * 3)"
      ],
      "execution_count": 31,
      "outputs": [
        {
          "output_type": "stream",
          "text": [
            "TinaTinaTina\n"
          ],
          "name": "stdout"
        }
      ]
    },
    {
      "cell_type": "code",
      "metadata": {
        "id": "8Oyt8okWIat8",
        "colab_type": "code",
        "colab": {
          "base_uri": "https://localhost:8080/",
          "height": 34
        },
        "outputId": "f9531e26-d39e-453b-a157-5c1612edfa2b"
      },
      "source": [
        "str1=\"Hello\"\n",
        "str2=\"world\"\n",
        "concat=str1+str2\n",
        "print(concat)"
      ],
      "execution_count": 34,
      "outputs": [
        {
          "output_type": "stream",
          "text": [
            "Helloworld\n"
          ],
          "name": "stdout"
        }
      ]
    }
  ]
}