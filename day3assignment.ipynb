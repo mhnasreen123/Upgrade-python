{
  "nbformat": 4,
  "nbformat_minor": 0,
  "metadata": {
    "colab": {
      "name": "day3assignment.ipynb",
      "provenance": [],
      "authorship_tag": "ABX9TyMRLdIbTm86mVf7xbzbzPxu",
      "include_colab_link": true
    },
    "kernelspec": {
      "name": "python3",
      "display_name": "Python 3"
    }
  },
  "cells": [
    {
      "cell_type": "markdown",
      "metadata": {
        "id": "view-in-github",
        "colab_type": "text"
      },
      "source": [
        "<a href=\"https://colab.research.google.com/github/mhnasreen123/Upgrade-python/blob/master/day3assignment.ipynb\" target=\"_parent\"><img src=\"https://colab.research.google.com/assets/colab-badge.svg\" alt=\"Open In Colab\"/></a>"
      ]
    },
    {
      "cell_type": "code",
      "metadata": {
        "id": "IVP7dEXzc9VO",
        "colab_type": "code",
        "colab": {}
      },
      "source": [
        "def main():\n",
        "  a=1000\n",
        "  if(a<5000):\n",
        "    print(\"come down to 1000ft\")\n",
        "  elif(5000>N):\n",
        "    print(\"turn over\")\n",
        "  else:\n",
        "    print(\"land the plane\")"
      ],
      "execution_count": 33,
      "outputs": []
    },
    {
      "cell_type": "code",
      "metadata": {
        "id": "xPSVp83peiDH",
        "colab_type": "code",
        "colab": {
          "base_uri": "https://localhost:8080/",
          "height": 129
        },
        "outputId": "0c70da51-f3a8-4abe-cc56-a28e174367ff"
      },
      "source": [
        " for number in range(1,200):\n",
        "   count=0\n",
        "   for i in range(2,(number//2 +1)):\n",
        "  if (number%i==0):\n",
        "    count=count+1\n",
        "    break\n",
        "  if(count==0 nd number!=1):\n",
        "    print(\"%d\"%number,end=' ')\n"
      ],
      "execution_count": 41,
      "outputs": [
        {
          "output_type": "error",
          "ename": "IndentationError",
          "evalue": "ignored",
          "traceback": [
            "\u001b[0;36m  File \u001b[0;32m\"<ipython-input-41-47c8f1866b56>\"\u001b[0;36m, line \u001b[0;32m4\u001b[0m\n\u001b[0;31m    if (number%i==0):\u001b[0m\n\u001b[0m                     ^\u001b[0m\n\u001b[0;31mIndentationError\u001b[0m\u001b[0;31m:\u001b[0m unindent does not match any outer indentation level\n"
          ]
        }
      ]
    }
  ]
}