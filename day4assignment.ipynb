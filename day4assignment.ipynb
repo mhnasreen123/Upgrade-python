{
  "nbformat": 4,
  "nbformat_minor": 0,
  "metadata": {
    "colab": {
      "name": "Untitled1.ipynb",
      "provenance": [],
      "collapsed_sections": [],
      "authorship_tag": "ABX9TyMcymcW9jka4X8VTIBp+7sc",
      "include_colab_link": true
    },
    "kernelspec": {
      "name": "python3",
      "display_name": "Python 3"
    }
  },
  "cells": [
    {
      "cell_type": "markdown",
      "metadata": {
        "id": "view-in-github",
        "colab_type": "text"
      },
      "source": [
        "<a href=\"https://colab.research.google.com/github/mhnasreen123/Upgrade-python/blob/master/day4assignment.ipynb\" target=\"_parent\"><img src=\"https://colab.research.google.com/assets/colab-badge.svg\" alt=\"Open In Colab\"/></a>"
      ]
    },
    {
      "cell_type": "code",
      "metadata": {
        "id": "ErDXHVGx277j",
        "colab_type": "code",
        "colab": {}
      },
      "source": [
        "num=int((input)(\"enter the  first number\"))\n",
        "sum=0\n",
        "temp = num\n",
        "while temp > 0:\n",
        "  digit = temp%10\n",
        "  sum += digit**9\n",
        "  temp//= 10\n",
        "if num==sum:\n",
        "    print(num,\"is an amstrong number\")\n",
        "else:\n",
        "      print(num,\"is not an amstrong number\")"
      ],
      "execution_count": null,
      "outputs": []
    }
  ]
}